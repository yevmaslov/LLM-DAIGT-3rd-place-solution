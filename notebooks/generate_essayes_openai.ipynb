{
 "cells": [
  {
   "cell_type": "code",
   "execution_count": 1,
   "id": "3d40022b-e4cc-4456-b57c-2b6542205ed1",
   "metadata": {},
   "outputs": [
    {
     "name": "stderr",
     "output_type": "stream",
     "text": [
      "/Users/yevhenii/anaconda3/lib/python3.10/site-packages/tqdm/auto.py:22: TqdmWarning: IProgress not found. Please update jupyter and ipywidgets. See https://ipywidgets.readthedocs.io/en/stable/user_install.html\n",
      "  from .autonotebook import tqdm as notebook_tqdm\n"
     ]
    }
   ],
   "source": [
    "from dotenv import load_dotenv\n",
    "import os\n",
    "load_dotenv()\n",
    "from tqdm.auto import tqdm\n",
    "import pandas as pd\n",
    "import numpy as np\n",
    "\n",
    "import openai\n",
    "\n",
    "openai.api_key = os.getenv(\"OPENAI_KEY\")\n",
    "\n",
    "df = pd.read_csv('../data/raw/train_essays.csv')\n",
    "prompts = pd.read_csv('../data/external/nbroad/prompts.csv')\n",
    "fb = pd.read_csv('../data/external/fell/train.csv')\n",
    "cl = pd.read_csv('../data/external/commonlit-read/train.csv')\n",
    "\n",
    "persuade = pd.read_csv('../data/external/pesuade/persuade_2.0_human_scores_demo_id_github.csv')\n",
    "\n",
    "valid_assignments = [\n",
    "    'Write an explanatory essay to inform fellow citizens about the advantages of limiting car usage. Your essay must be based on ideas and information that can be found in the passage set. Manage your time carefully so that you can read the passages; plan your response; write your response; and revise and edit your response. Be sure to use evidence from multiple sources; and avoid overly relying on one source. Your response should be in the form of a multiparagraph essay. Write your essay in the space provided.',\n",
    "    'Write a letter to your state senator in which you argue in favor of keeping the Electoral College or changing to election by popular vote for the president of the United States. Use the information from the texts in your essay. Manage your time carefully so that you can read the passages; plan your response; write your response; and revise and edit your response. Be sure to include a claim; address counterclaims; use evidence from multiple sources; and avoid overly relying on one source. Your response should be in the form of a multiparagraph essay. Write your response in the space provided.',\n",
    "]\n",
    "\n",
    "train_assignments = [\n",
    "       \"You have just read the article, 'A Cowboy Who Rode the Waves.' Luke's participation in the Seagoing Cowboys program allowed him to experience adventures and visit many unique places. Using information from the article, write an argument from Luke's point of view convincing others to participate in the Seagoing Cowboys program. Be sure to include: reasons to join the program; details from the article to support Luke's claims; an introduction, a body, and a conclusion to your essay.\",\n",
    "       'In \"The Challenge of Exploring Venus,\" the author suggests studying Venus is a worthy pursuit despite the dangers it presents. Using details from the article, write an essay evaluating how well the author supports this idea. Be sure to include: a claim that evaluates how well the author supports the idea that studying Venus is a worthy pursuit despite the dangers; an explanation of the evidence from the article that supports your claim; an introduction, a body, and a conclusion to your essay.',\n",
    "       'In the article \"Making Mona Lisa Smile,\" the author describes how a new technology called the Facial Action Coding System enables computers to identify human emotions. Using details from the article, write an essay arguing whether the use of this technology to read the emotional expressions of students in a classroom is valuable.',\n",
    "       \"You have read the article 'Unmasking the Face on Mars.' Imagine you are a scientist at NASA discussing the Face with someone who thinks it was created by aliens. Using information in the article, write an argumentative essay to convince someone that the Face is just a natural landform.Be sure to include: claims to support your argument that the Face is a natural landform; evidence from the article to support your claims; an introduction, a body, and a conclusion to your argumentative essay.\",\n",
    "       'In the article “Driverless Cars are Coming,” the author presents both positive and negative aspects of driverless cars. Using details from the article, create an argument for or against the development of these cars.  Be sure to include: your position on driverless cars; appropriate details from the article that support your position; an introduction, a body, and a conclusion to your argumentative essay.',\n",
    "]\n",
    "\n",
    "all_assignments = train_assignments + valid_assignments\n",
    "persuade = persuade[persuade['assignment'].isin(all_assignments)]\n",
    "\n",
    "# persuade = persuade.groupby('prompt_name').sample(100, random_state=42)"
   ]
  },
  {
   "cell_type": "code",
   "execution_count": 2,
   "id": "4cb63a27",
   "metadata": {},
   "outputs": [],
   "source": [
    "persuade = persuade[persuade['holistic_essay_score'] > 3]\n",
    "persuade = persuade.reset_index(drop=True)"
   ]
  },
  {
   "cell_type": "code",
   "execution_count": 3,
   "id": "fb46c9e0",
   "metadata": {},
   "outputs": [
    {
     "data": {
      "text/plain": [
       "(3607, 14)"
      ]
     },
     "execution_count": 3,
     "metadata": {},
     "output_type": "execute_result"
    }
   ],
   "source": [
    "persuade.shape"
   ]
  },
  {
   "cell_type": "code",
   "execution_count": 7,
   "id": "74f8ea59",
   "metadata": {},
   "outputs": [
    {
     "name": "stdout",
     "output_type": "stream",
     "text": [
      "1837\n",
      "1770\n"
     ]
    },
    {
     "name": "stderr",
     "output_type": "stream",
     "text": [
      "[nltk_data] Downloading package punkt to /Users/yevhenii/nltk_data...\n",
      "[nltk_data]   Package punkt is already up-to-date!\n"
     ]
    }
   ],
   "source": [
    "import nltk\n",
    "from nltk import sent_tokenize\n",
    "nltk.download('punkt')\n",
    "\n",
    "folder = '../data/generated/persuade_gpt_patially_rewritten_05'\n",
    "generated_indexes = []\n",
    "for id in persuade.essay_id_comp.values:\n",
    "    if os.path.isfile(f'{folder}/text_{id}.txt'):\n",
    "        generated_indexes.append(id)\n",
    "        \n",
    "remaining_indexes = sorted([i for i in persuade.essay_id_comp.values if i not in generated_indexes])\n",
    "\n",
    "np.random.shuffle(remaining_indexes)\n",
    "\n",
    "print(len(generated_indexes))\n",
    "print(len(remaining_indexes))"
   ]
  },
  {
   "cell_type": "code",
   "execution_count": 8,
   "id": "c4687c69",
   "metadata": {},
   "outputs": [
    {
     "name": "stderr",
     "output_type": "stream",
     "text": [
      "  0%|          | 0/1770 [00:00<?, ?it/s]"
     ]
    },
    {
     "name": "stderr",
     "output_type": "stream",
     "text": [
      " 24%|██▍       | 422/1770 [1:26:51<4:37:28, 12.35s/it] \n",
      " 29%|██▊       | 505/1770 [15:41<39:17,  1.86s/it]  \n",
      " 49%|████▉     | 872/1770 [1:19:57<1:22:20,  5.50s/it]\n",
      " 52%|█████▏    | 925/1770 [19:24<17:43,  1.26s/it]  \n",
      " 64%|██████▍   | 1133/1770 [38:04<2:07:31, 12.01s/it]"
     ]
    }
   ],
   "source": [
    "for retry in range(50):\n",
    "    try:\n",
    "        for id in tqdm(remaining_indexes):\n",
    "            row = persuade[persuade['essay_id_comp'] == id]\n",
    "            assert row.shape[0] == 1\n",
    "            \n",
    "            if os.path.isfile(f'{folder}/text_{id}.txt'):\n",
    "                continue\n",
    "\n",
    "            text = row.full_text.values[0]\n",
    "            assignment =  row.assignment.values[0]\n",
    "\n",
    "            sentences = sent_tokenize(text)\n",
    "\n",
    "            ratio = 0.5\n",
    "            n_sentences = int(len(sentences) * ratio)\n",
    "\n",
    "            sentences_idxs = [i for i in range(len(sentences))]\n",
    "            random_idxs = sorted(np.random.choice(sentences_idxs, size=n_sentences))\n",
    "            \n",
    "            raw_prompt = \"\"\"Pretend that you are student of 10th grade. Rephrase following text, keep only content text in your response (i.e. remove anything else that is not in rephrased text): {}\"\"\"\n",
    "\n",
    "            for rand_idx in random_idxs:\n",
    "                prompt = raw_prompt.format(sentences[rand_idx])\n",
    "                \n",
    "                messages = [\n",
    "                    {\n",
    "                        \"role\": \"system\",\n",
    "                        \"content\": \"You are a helpful assistant.\"\n",
    "                    },\n",
    "                    {\n",
    "                        \"role\": \"user\",\n",
    "                        \"content\": prompt\n",
    "                    }\n",
    "                ]\n",
    "                response = openai.ChatCompletion.create(\n",
    "                    model=\"gpt-3.5-turbo\",\n",
    "                    messages=messages,\n",
    "                    max_tokens=1000,\n",
    "                )\n",
    "                generated_text = response['choices'][0]['message']['content']\n",
    "                sentences[rand_idx] = generated_text\n",
    "\n",
    "            new_text = ' '.join(sentences)\n",
    "            with open(f'{folder}/text_{id}.txt', 'w') as file:\n",
    "                file.write(new_text)\n",
    "                \n",
    "            with open(f'{folder}/oritext_{id}.txt', 'w') as file:\n",
    "                file.write(text)\n",
    "\n",
    "    except:\n",
    "        pass    \n",
    "    "
   ]
  },
  {
   "cell_type": "code",
   "execution_count": null,
   "id": "ab89e427",
   "metadata": {},
   "outputs": [],
   "source": []
  },
  {
   "cell_type": "code",
   "execution_count": null,
   "id": "ec1ee9b7",
   "metadata": {},
   "outputs": [],
   "source": []
  },
  {
   "cell_type": "code",
   "execution_count": 80,
   "id": "aa887d95",
   "metadata": {},
   "outputs": [
    {
     "name": "stderr",
     "output_type": "stream",
     "text": [
      "100%|██████████| 700/700 [30:54<00:00,  2.65s/it]  \n"
     ]
    }
   ],
   "source": [
    "# for idx in tqdm(persuade.index.values):\n",
    "#     if os.path.isfile(f'persuade_gpt4_rephrased/text{idx}.txt'):\n",
    "#         continue\n",
    "    \n",
    "#     text = persuade.full_text.loc[idx]\n",
    "#     assignment = persuade.assignment.loc[idx]\n",
    "    \n",
    "#     if assignment not in valid_assignments:\n",
    "#         continue\n",
    "    \n",
    "#     prompt = f\"\"\"\n",
    "#     Pretend that you are student of 10th grade. \n",
    "#     Rephrase following text, \n",
    "#     remove any titles, text block names (like 'Introduction:', 'Main:', 'Conclusion:', etc.).\n",
    "#     Your response should not contain any numeration or bullet points, write plain, regular text.\n",
    "#     Keep the original text length in your response.\n",
    "#     Text: {text}\n",
    "#     \"\"\"\n",
    "    \n",
    "#     messages = [\n",
    "#         {\n",
    "#             \"role\": \"system\",\n",
    "#             \"content\": \"You are a helpful assistant.\"\n",
    "#         },\n",
    "#         {\n",
    "#             \"role\": \"user\",\n",
    "#             \"content\": prompt\n",
    "#         }\n",
    "#     ]\n",
    "        \n",
    "#     response = openai.ChatCompletion.create(\n",
    "#         model=\"gpt-3.5-turbo\", \n",
    "#         messages=messages,\n",
    "#         max_tokens=3400,\n",
    "#     )\n",
    "    \n",
    "#     generated_text = response['choices'][0]['message']['content']\n",
    "\n",
    "#     with open(f'persuade_gpt4_rephrased/text{idx}.txt', 'w') as file:\n",
    "#         file.write(generated_text)\n",
    "        \n",
    "#     with open(f'persuade_gpt4_rephrased/original_text{idx}.txt', 'w') as file:\n",
    "#         file.write(text)\n",
    "        \n",
    "#     with open(f'persuade_gpt4_rephrased/assignment_text{idx}.txt', 'w') as file:\n",
    "#         file.write(assignment)\n",
    "        \n",
    "#     # print(1)"
   ]
  },
  {
   "cell_type": "code",
   "execution_count": null,
   "id": "6492b6a3",
   "metadata": {},
   "outputs": [],
   "source": []
  },
  {
   "cell_type": "code",
   "execution_count": null,
   "id": "e86c272e",
   "metadata": {},
   "outputs": [],
   "source": []
  }
 ],
 "metadata": {
  "kernelspec": {
   "display_name": "Python 3 (ipykernel)",
   "language": "python",
   "name": "python3"
  },
  "language_info": {
   "codemirror_mode": {
    "name": "ipython",
    "version": 3
   },
   "file_extension": ".py",
   "mimetype": "text/x-python",
   "name": "python",
   "nbconvert_exporter": "python",
   "pygments_lexer": "ipython3",
   "version": "3.10.9"
  }
 },
 "nbformat": 4,
 "nbformat_minor": 5
}
