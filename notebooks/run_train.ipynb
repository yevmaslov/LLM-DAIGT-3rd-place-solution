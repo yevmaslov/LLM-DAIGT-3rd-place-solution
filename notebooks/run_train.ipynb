{
 "cells": [
  {
   "cell_type": "code",
   "execution_count": null,
   "id": "eae80d2c",
   "metadata": {},
   "outputs": [],
   "source": []
  },
  {
   "cell_type": "code",
   "execution_count": null,
   "id": "5109c70f-f68f-4497-9048-ae11dcb16047",
   "metadata": {},
   "outputs": [],
   "source": [
    "DEBUG = False"
   ]
  },
  {
   "cell_type": "code",
   "execution_count": null,
   "id": "ad2a2a0c-0426-4b45-b559-1dc382f38b73",
   "metadata": {},
   "outputs": [],
   "source": [
    "!python src/train_model.py --config_path configs/exp179.yaml --debug $DEBUG"
   ]
  },
  {
   "cell_type": "code",
   "execution_count": null,
   "id": "00af8900-8c05-4216-8833-70cacec561b9",
   "metadata": {},
   "outputs": [],
   "source": [
    "!python src/train_model.py --config_path configs/exp184.yaml --debug $DEBUG"
   ]
  },
  {
   "cell_type": "code",
   "execution_count": null,
   "id": "ee2b6627-b6a7-4a09-8d8a-c37fd0f8b075",
   "metadata": {},
   "outputs": [],
   "source": [
    "!python src/train_model.py --config_path configs/exp200.yaml --debug $DEBUG"
   ]
  },
  {
   "cell_type": "code",
   "execution_count": null,
   "id": "bcce58c9-46c5-4fcc-a53d-48b4eda80200",
   "metadata": {},
   "outputs": [],
   "source": [
    "!python src/train_model.py --config_path configs/exp222.yaml --debug $DEBUG"
   ]
  },
  {
   "cell_type": "code",
   "execution_count": null,
   "id": "5e9db2f4-3386-4c69-ba04-036ca1c9d23d",
   "metadata": {},
   "outputs": [],
   "source": []
  },
  {
   "cell_type": "code",
   "execution_count": null,
   "id": "f9edc815-ba92-42fe-9ecb-aef045bc726d",
   "metadata": {},
   "outputs": [],
   "source": []
  },
  {
   "cell_type": "code",
   "execution_count": null,
   "id": "7a6ac173-b128-4794-aa3b-4571788c3701",
   "metadata": {},
   "outputs": [],
   "source": [
    "!python src/train_model.py --config_path configs/exp475.yaml --debug $DEBUG"
   ]
  },
  {
   "cell_type": "code",
   "execution_count": null,
   "id": "28a60cd6-6cb5-4336-a68b-5f40a7eb9be0",
   "metadata": {},
   "outputs": [],
   "source": [
    "!python src/train_model.py --config_path configs/exp477.yaml --debug $DEBUG"
   ]
  },
  {
   "cell_type": "code",
   "execution_count": null,
   "id": "6995e15a-13ff-4002-94b4-eadf94b57335",
   "metadata": {},
   "outputs": [],
   "source": [
    "!python src/train_model.py --config_path configs/exp478.yaml --debug $DEBUG"
   ]
  },
  {
   "cell_type": "code",
   "execution_count": null,
   "id": "2eaa570c-ac84-45e4-8600-c8d603d7ba64",
   "metadata": {},
   "outputs": [],
   "source": []
  },
  {
   "cell_type": "code",
   "execution_count": null,
   "id": "66161938-ce28-4878-a381-571382e67bf1",
   "metadata": {},
   "outputs": [],
   "source": []
  },
  {
   "cell_type": "code",
   "execution_count": null,
   "id": "60e11445-8b69-4947-8c56-ac432edab6eb",
   "metadata": {},
   "outputs": [],
   "source": [
    "!python src/train_model.py --config_path configs/exp489.yaml --debug $DEBUG"
   ]
  },
  {
   "cell_type": "code",
   "execution_count": null,
   "id": "075cd856-ef10-49a5-871b-e7f7584cfe85",
   "metadata": {},
   "outputs": [],
   "source": [
    "!python src/train_model.py --config_path configs/exp492.yaml --debug $DEBUG"
   ]
  },
  {
   "cell_type": "code",
   "execution_count": null,
   "id": "16429ac4-ff1b-4c09-92a9-97e651386fcb",
   "metadata": {},
   "outputs": [],
   "source": [
    "!python src/train_model.py --config_path configs/exp510.yaml --debug $DEBUG"
   ]
  },
  {
   "cell_type": "code",
   "execution_count": null,
   "id": "bf81546d-74e1-41ef-9b0d-ae95a0df3aff",
   "metadata": {},
   "outputs": [],
   "source": [
    "!python src/train_model.py --config_path configs/exp512.yaml --debug $DEBUG"
   ]
  },
  {
   "cell_type": "code",
   "execution_count": null,
   "id": "61415e02-c8a7-41e9-9185-5daaa9649db8",
   "metadata": {},
   "outputs": [],
   "source": []
  },
  {
   "cell_type": "code",
   "execution_count": null,
   "id": "6c90c985-8fd4-4c30-94f1-1dd1608db09f",
   "metadata": {},
   "outputs": [],
   "source": []
  },
  {
   "cell_type": "code",
   "execution_count": null,
   "id": "81caedf7-edad-407e-bdfc-6f4aba52ce02",
   "metadata": {},
   "outputs": [],
   "source": [
    "!python src/train_model.py --config_path configs/exp500.yaml --debug $DEBUG"
   ]
  },
  {
   "cell_type": "code",
   "execution_count": null,
   "id": "6b91d92f-40c2-4b40-9abd-e8c2bb225cdb",
   "metadata": {},
   "outputs": [],
   "source": []
  },
  {
   "cell_type": "code",
   "execution_count": null,
   "id": "f3830eb8-5dca-4a27-9602-0992925a2e60",
   "metadata": {},
   "outputs": [],
   "source": []
  },
  {
   "cell_type": "code",
   "execution_count": null,
   "id": "0342912d-59ef-41fa-8c84-f73c69c26c5a",
   "metadata": {},
   "outputs": [],
   "source": [
    "!python src/train_model.py --config_path configs/exp507.yaml --debug $DEBUG"
   ]
  },
  {
   "cell_type": "code",
   "execution_count": null,
   "id": "53e03b30-3bcd-4291-a6b4-8e89bf64f67f",
   "metadata": {},
   "outputs": [],
   "source": [
    "!python src/train_model.py --config_path configs/exp511.yaml --debug $DEBUG"
   ]
  },
  {
   "cell_type": "code",
   "execution_count": null,
   "id": "3e1b879d-9829-4469-a555-2468b4198a23",
   "metadata": {},
   "outputs": [],
   "source": []
  },
  {
   "cell_type": "code",
   "execution_count": null,
   "id": "301e4b31-f73e-4648-94e3-d20e825b1c52",
   "metadata": {},
   "outputs": [],
   "source": []
  }
 ],
 "metadata": {
  "kernelspec": {
   "display_name": "Python 3 (ipykernel)",
   "language": "python",
   "name": "python3"
  },
  "language_info": {
   "codemirror_mode": {
    "name": "ipython",
    "version": 3
   },
   "file_extension": ".py",
   "mimetype": "text/x-python",
   "name": "python",
   "nbconvert_exporter": "python",
   "pygments_lexer": "ipython3",
   "version": "3.10.9"
  }
 },
 "nbformat": 4,
 "nbformat_minor": 5
}
